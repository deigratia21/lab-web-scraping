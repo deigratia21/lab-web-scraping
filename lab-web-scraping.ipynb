{
 "cells": [
  {
   "cell_type": "markdown",
   "id": "7e7a1ab8-2599-417d-9a65-25ef07f3a786",
   "metadata": {
    "id": "7e7a1ab8-2599-417d-9a65-25ef07f3a786"
   },
   "source": [
    "# Lab | Web Scraping"
   ]
  },
  {
   "cell_type": "markdown",
   "id": "ce8882fc-4815-4567-92fa-b4816358ba7d",
   "metadata": {
    "id": "ce8882fc-4815-4567-92fa-b4816358ba7d"
   },
   "source": [
    "Welcome to the \"Books to Scrape\" Web Scraping Adventure Lab!\n",
    "\n",
    "**Objective**\n",
    "\n",
    "In this lab, we will embark on a mission to unearth valuable insights from the data available on Books to Scrape, an online platform showcasing a wide variety of books. As data analyst, you have been tasked with scraping a specific subset of book data from Books to Scrape to assist publishing companies in understanding the landscape of highly-rated books across different genres. Your insights will help shape future book marketing strategies and publishing decisions.\n",
    "\n",
    "**Background**\n",
    "\n",
    "In a world where data has become the new currency, businesses are leveraging big data to make informed decisions that drive success and profitability. The publishing industry, much like others, utilizes data analytics to understand market trends, reader preferences, and the performance of books based on factors such as genre, author, and ratings. Books to Scrape serves as a rich source of such data, offering detailed information about a diverse range of books, making it an ideal platform for extracting insights to aid in informed decision-making within the literary world.\n",
    "\n",
    "**Task**\n",
    "\n",
    "Your task is to create a Python script using BeautifulSoup and pandas to scrape Books to Scrape book data, focusing on book ratings and genres. The script should be able to filter books with ratings above a certain threshold and in specific genres. Additionally, the script should structure the scraped data in a tabular format using pandas for further analysis.\n",
    "\n",
    "**Expected Outcome**\n",
    "\n",
    "A function named `scrape_books` that takes two parameters: `min_rating` and `max_price`. The function should scrape book data from the \"Books to Scrape\" website and return a `pandas` DataFrame with the following columns:\n",
    "\n",
    "**Expected Outcome**\n",
    "\n",
    "- A function named `scrape_books` that takes two parameters: `min_rating` and `max_price`.\n",
    "- The function should return a DataFrame with the following columns:\n",
    "  - **UPC**: The Universal Product Code (UPC) of the book.\n",
    "  - **Title**: The title of the book.\n",
    "  - **Price (£)**: The price of the book in pounds.\n",
    "  - **Rating**: The rating of the book (1-5 stars).\n",
    "  - **Genre**: The genre of the book.\n",
    "  - **Availability**: Whether the book is in stock or not.\n",
    "  - **Description**: A brief description or product description of the book (if available).\n",
    "  \n",
    "You will execute this script to scrape data for books with a minimum rating of `4.0 and above` and a maximum price of `£20`. \n",
    "\n",
    "Remember to experiment with different ratings and prices to ensure your code is versatile and can handle various searches effectively!\n",
    "\n",
    "**Resources**\n",
    "\n",
    "- [Beautiful Soup Documentation](https://www.crummy.com/software/BeautifulSoup/bs4/doc/)\n",
    "- [Pandas Documentation](https://pandas.pydata.org/pandas-docs/stable/index.html)\n",
    "- [Books to Scrape](https://books.toscrape.com/)\n"
   ]
  },
  {
   "cell_type": "markdown",
   "id": "3519921d-5890-445b-9a33-934ed8ee378c",
   "metadata": {
    "id": "3519921d-5890-445b-9a33-934ed8ee378c"
   },
   "source": [
    "**Hint**\n",
    "\n",
    "Your first mission is to familiarize yourself with the **Books to Scrape** website. Navigate to [Books to Scrape](http://books.toscrape.com/) and explore the available books to understand their layout and structure. \n",
    "\n",
    "Next, think about how you can set parameters for your data extraction:\n",
    "\n",
    "- **Minimum Rating**: Focus on books with a rating of 4.0 and above.\n",
    "- **Maximum Price**: Filter for books priced up to £20.\n",
    "\n",
    "After reviewing the site, you can construct a plan for scraping relevant data. Pay attention to the details displayed for each book, including the title, price, rating, and availability. This will help you identify the correct HTML elements to target with your scraping script.\n",
    "\n",
    "Make sure to build your scraping URL and logic based on the patterns you observe in the HTML structure of the book listings!"
   ]
  },
  {
   "cell_type": "markdown",
   "id": "25a83a0d-a742-49f6-985e-e27887cbf922",
   "metadata": {
    "id": "25a83a0d-a742-49f6-985e-e27887cbf922"
   },
   "source": [
    "\n",
    "---\n",
    "\n",
    "**Best of luck! Immerse yourself in the world of books, and may the data be with you!**"
   ]
  },
  {
   "cell_type": "markdown",
   "id": "7b75cf0d-9afa-4eec-a9e2-befeac68b2a0",
   "metadata": {
    "id": "7b75cf0d-9afa-4eec-a9e2-befeac68b2a0"
   },
   "source": [
    "**Important Note**:\n",
    "\n",
    "In the fast-changing online world, websites often update and change their structures. When you try this lab, the **Books to Scrape** website might differ from what you expect.\n",
    "\n",
    "If you encounter issues due to these changes, like new rules or obstacles preventing data extraction, don’t worry! Get creative.\n",
    "\n",
    "You can choose another website that interests you and is suitable for scraping data. Options like Wikipedia, The New York Times, or even library databases are great alternatives. The main goal remains the same: extract useful data and enhance your web scraping skills while exploring a source of information you enjoy. This is your opportunity to practice and adapt to different web environments!"
   ]
  },
  {
   "cell_type": "code",
   "execution_count": 1,
   "id": "40359eee-9cd7-4884-bfa4-83344c222305",
   "metadata": {
    "id": "40359eee-9cd7-4884-bfa4-83344c222305"
   },
   "outputs": [
    {
     "name": "stdout",
     "output_type": "stream",
     "text": [
      "Status Code: 200\n",
      "<!DOCTYPE html>\n",
      "<!--[if lt IE 7]>      <html lang=\"en-us\" class=\"no-js lt-ie9 lt-ie8 lt-ie7\"> <![endif]-->\n",
      "<!--[if IE 7]>         <html lang=\"en-us\" class=\"no-js lt-ie9 lt-ie8\"> <![endif]-->\n",
      "<!--[if IE 8]>         <html lang=\"en-us\" class=\"no-js lt-ie9\"> <![endif]-->\n",
      "<!--[if gt IE 8]><!-->\n",
      "<html class=\"no-js\" lang=\"en-us\">\n",
      " <!--<![endif]-->\n",
      " <head>\n",
      "  <title>\n",
      "   All products | Books to Scrape - Sandbox\n",
      "  </title>\n",
      "  <meta content=\"text/html; charset=utf-8\" http-equiv=\"content-type\"/>\n",
      "  <meta content=\"24th Jun 2016 09:29\" name=\"created\"/>\n",
      "  <meta content=\"\" name=\"description\"/>\n",
      "  <meta content=\"width=device-width\" name=\"viewport\"/>\n",
      "  <meta content=\"NOARCHIVE,NOCACHE\" name=\"robots\"/>\n",
      "  <!-- Le HTML5 shim, for IE6-8 support of HTML elements -->\n",
      "  <!--[if lt IE 9]>\n",
      "        <script src=\"//html5shim.googlecode.com/svn/trunk/html5.js\"></script>\n",
      "        <![endif]-->\n",
      "  <link href=\"static/oscar/favicon.ico\" rel=\"shortcut icon\"/>\n",
      "  <link href=\"static/oscar/css/styles.css\" rel=\"stylesheet\" type=\"tex\n"
     ]
    }
   ],
   "source": [
    "# Step 1: Import libraries\n",
    "import requests\n",
    "from bs4 import BeautifulSoup\n",
    "import pandas as pd\n",
    "\n",
    "# Step 2: Kirim request ke halaman utama\n",
    "url = \"http://books.toscrape.com/\"\n",
    "response = requests.get(url)\n",
    "\n",
    "# Step 3: Cek status response\n",
    "print(\"Status Code:\", response.status_code)\n",
    "\n",
    "# Step 4: Parse dengan BeautifulSoup\n",
    "soup = BeautifulSoup(response.content, 'html.parser')\n",
    "\n",
    "# Step 5: Tampilkan potongan HTML untuk melihat struktur\n",
    "print(soup.prettify()[:1000])  # tampilkan 1000 karakter pertama"
   ]
  },
  {
   "cell_type": "code",
   "execution_count": 3,
   "id": "408b0b87-ad12-4e73-a997-84a02ab43e01",
   "metadata": {},
   "outputs": [
    {
     "name": "stdout",
     "output_type": "stream",
     "text": [
      "Total books found: 1000\n",
      "['http://books.toscrape.com/catalogue/a-light-in-the-attic_1000/index.html', 'http://books.toscrape.com/catalogue/tipping-the-velvet_999/index.html', 'http://books.toscrape.com/catalogue/soumission_998/index.html', 'http://books.toscrape.com/catalogue/sharp-objects_997/index.html', 'http://books.toscrape.com/catalogue/sapiens-a-brief-history-of-humankind_996/index.html']\n"
     ]
    }
   ],
   "source": [
    "# Step 1: Inisialisasi\n",
    "base_url = \"http://books.toscrape.com/\"\n",
    "book_links = []\n",
    "\n",
    "# Step 2: Loop tiap halaman\n",
    "next_page = \"catalogue/page-1.html\"\n",
    "while next_page:\n",
    "    # Request ke halaman\n",
    "    page_url = base_url + next_page\n",
    "    response = requests.get(page_url)\n",
    "    soup = BeautifulSoup(response.content, 'html.parser')\n",
    "\n",
    "    # Temukan semua link buku di halaman ini\n",
    "    articles = soup.find_all('article', class_='product_pod')\n",
    "    for article in articles:\n",
    "        link = article.find('h3').find('a')['href']\n",
    "        full_link = base_url + \"catalogue/\" + link.replace('../../../', '')\n",
    "        book_links.append(full_link)\n",
    "\n",
    "    # Cek apakah ada \"next\"\n",
    "    next_button = soup.find('li', class_='next')\n",
    "    if next_button:\n",
    "        next_page = next_button.find('a')['href']\n",
    "        next_page = \"catalogue/\" + next_page\n",
    "    else:\n",
    "        next_page = None\n",
    "\n",
    "# Step 3: Cek hasil\n",
    "print(f\"Total books found: {len(book_links)}\")\n",
    "print(book_links[:5])  # tampilkan 5 contoh link"
   ]
  },
  {
   "cell_type": "code",
   "execution_count": 5,
   "id": "87929a9e-0926-4466-b740-ea2fe356d435",
   "metadata": {},
   "outputs": [
    {
     "name": "stdout",
     "output_type": "stream",
     "text": [
      "Title: A Light in the Attic\n",
      "Price: £51.77\n",
      "Availability: In stock (22 available)\n",
      "Rating: Three\n",
      "Description: It's hard to imagine a world without A Light in the Attic. T...\n",
      "Genre: Poetry\n",
      "UPC: a897fe39b1053632\n"
     ]
    }
   ],
   "source": [
    "# Ambil 1 link buku untuk dicoba dulu\n",
    "url = book_links[0]\n",
    "response = requests.get(url)\n",
    "soup = BeautifulSoup(response.content, 'html.parser')\n",
    "\n",
    "# Title\n",
    "title = soup.find('h1').text\n",
    "\n",
    "# Price\n",
    "price = soup.find('p', class_='price_color').text.strip()\n",
    "\n",
    "# Availability\n",
    "availability = soup.find('p', class_='instock availability').text.strip()\n",
    "\n",
    "# Rating (dari class CSS)\n",
    "rating_class = soup.find('p', class_='star-rating')['class']\n",
    "rating_text = rating_class[1]\n",
    "\n",
    "# Description (cek apakah ada)\n",
    "desc_tag = soup.find('div', id='product_description')\n",
    "if desc_tag:\n",
    "    description = desc_tag.find_next_sibling('p').text.strip()\n",
    "else:\n",
    "    description = ''\n",
    "\n",
    "# Genre\n",
    "genre = soup.select('ul.breadcrumb li a')[-1].text.strip()\n",
    "\n",
    "# UPC (dari table)\n",
    "table = soup.find('table', class_='table table-striped')\n",
    "upc = table.find('td').text.strip()\n",
    "\n",
    "# Tampilkan hasil\n",
    "print(f\"Title: {title}\")\n",
    "print(f\"Price: {price}\")\n",
    "print(f\"Availability: {availability}\")\n",
    "print(f\"Rating: {rating_text}\")\n",
    "print(f\"Description: {description[:60]}...\")\n",
    "print(f\"Genre: {genre}\")\n",
    "print(f\"UPC: {upc}\")"
   ]
  },
  {
   "cell_type": "code",
   "execution_count": null,
   "id": "4d81e6ba-746e-452b-bd2f-2608571a3ac2",
   "metadata": {},
   "outputs": [],
   "source": [
    "import pandas as pd\n",
    "import time\n",
    "\n",
    "# Simpan hasil ke dalam list\n",
    "books_data = []\n",
    "\n",
    "for url in book_links:\n",
    "    response = requests.get(url)\n",
    "    soup = BeautifulSoup(response.content, 'html.parser')\n",
    "\n",
    "    # Title\n",
    "    title = soup.find('h1').text\n",
    "\n",
    "    # Price\n",
    "    price = soup.find('p', class_='price_color').text.strip()\n",
    "\n",
    "    # Availability\n",
    "    availability = soup.find('p', class_='instock availability').text.strip()\n",
    "\n",
    "    # Rating\n",
    "    rating_class = soup.find('p', class_='star-rating')['class']\n",
    "    rating_text = rating_class[1]\n",
    "\n",
    "    # Description\n",
    "    desc_tag = soup.find('div', id='product_description')\n",
    "    if desc_tag:\n",
    "        description = desc_tag.find_next_sibling('p').text.strip()\n",
    "    else:\n",
    "        description = ''\n",
    "\n",
    "    # Genre\n",
    "    genre = soup.select('ul.breadcrumb li a')[-1].text.strip()\n",
    "\n",
    "    # UPC\n",
    "    table = soup.find('table', class_='table table-striped')\n",
    "    upc = table.find('td').text.strip()\n",
    "\n",
    "    # Simpan ke list sebagai dict\n",
    "    books_data.append({\n",
    "        'Title': title,\n",
    "        'Price (£)': price,\n",
    "        'Availability': availability,\n",
    "        'Rating': rating_text,\n",
    "        'Description': description,\n",
    "        'Genre': genre,\n",
    "        'UPC': upc\n",
    "    })\n",
    "\n",
    "    time.sleep(0.5)  # Hindari overloading server\n",
    "\n",
    "# Simpan ke DataFrame\n",
    "df_books = pd.DataFrame(books_data)\n",
    "\n",
    "# Tampilkan 5 baris pertama\n",
    "df_books.head()"
   ]
  },
  {
   "cell_type": "code",
   "execution_count": null,
   "id": "7e3d29e8-cc7b-4d57-a3d8-7f89f1ceb50c",
   "metadata": {},
   "outputs": [],
   "source": []
  }
 ],
 "metadata": {
  "colab": {
   "provenance": []
  },
  "kernelspec": {
   "display_name": "Python [conda env:base] *",
   "language": "python",
   "name": "conda-base-py"
  },
  "language_info": {
   "codemirror_mode": {
    "name": "ipython",
    "version": 3
   },
   "file_extension": ".py",
   "mimetype": "text/x-python",
   "name": "python",
   "nbconvert_exporter": "python",
   "pygments_lexer": "ipython3",
   "version": "3.12.7"
  }
 },
 "nbformat": 4,
 "nbformat_minor": 5
}
